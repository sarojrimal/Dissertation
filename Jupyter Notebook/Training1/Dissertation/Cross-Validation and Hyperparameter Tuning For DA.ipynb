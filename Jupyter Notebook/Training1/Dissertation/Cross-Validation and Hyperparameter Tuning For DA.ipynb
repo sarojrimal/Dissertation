{
 "cells": [
  {
   "cell_type": "code",
   "execution_count": 1,
   "id": "7d1a1d9c",
   "metadata": {},
   "outputs": [],
   "source": [
    "import tensorflow as tf\n",
    "from tensorflow import keras\n",
    "from tensorflow.keras import layers\n",
    "import matplotlib.pyplot as plt\n",
    "import numpy as np"
   ]
  },
  {
   "cell_type": "code",
   "execution_count": 2,
   "id": "066fe8f8",
   "metadata": {},
   "outputs": [],
   "source": [
    "# Set the hyperparameters for cross-validation\n",
    "num_folds = 5\n",
    "epochs = 15\n",
    "batch_size = 32\n",
    "image_size = 256\n",
    "channels = 3"
   ]
  },
  {
   "cell_type": "code",
   "execution_count": 3,
   "id": "bc2185d2",
   "metadata": {},
   "outputs": [
    {
     "name": "stdout",
     "output_type": "stream",
     "text": [
      "Found 16011 files belonging to 10 classes.\n"
     ]
    }
   ],
   "source": [
    "# Load the dataset\n",
    "dataset_path = \"dataset\"\n",
    "df = keras.preprocessing.image_dataset_from_directory(\n",
    "    dataset_path,\n",
    "    shuffle=True,\n",
    "    image_size=(image_size, image_size),\n",
    "    batch_size=batch_size,\n",
    ")"
   ]
  },
  {
   "cell_type": "code",
   "execution_count": 4,
   "id": "753f0e41",
   "metadata": {},
   "outputs": [],
   "source": [
    "# Get the number of classes and class names\n",
    "num_classes = len(df.class_names)\n",
    "class_names = df.class_names"
   ]
  },
  {
   "cell_type": "code",
   "execution_count": 10,
   "id": "cf545959",
   "metadata": {},
   "outputs": [
    {
     "name": "stdout",
     "output_type": "stream",
     "text": [
      "Collecting keras-tuner\n",
      "  Downloading keras_tuner-1.3.5-py3-none-any.whl (176 kB)\n",
      "     -------------------------------------- 176.1/176.1 kB 3.5 MB/s eta 0:00:00\n",
      "Requirement already satisfied: packaging in c:\\users\\zaan\\anaconda3\\lib\\site-packages (from keras-tuner) (22.0)\n",
      "Collecting kt-legacy\n",
      "  Downloading kt_legacy-1.0.5-py3-none-any.whl (9.6 kB)\n",
      "Requirement already satisfied: requests in c:\\users\\zaan\\anaconda3\\lib\\site-packages (from keras-tuner) (2.28.1)\n",
      "Requirement already satisfied: idna<4,>=2.5 in c:\\users\\zaan\\anaconda3\\lib\\site-packages (from requests->keras-tuner) (3.4)\n",
      "Requirement already satisfied: charset-normalizer<3,>=2 in c:\\users\\zaan\\anaconda3\\lib\\site-packages (from requests->keras-tuner) (2.0.4)\n",
      "Requirement already satisfied: certifi>=2017.4.17 in c:\\users\\zaan\\anaconda3\\lib\\site-packages (from requests->keras-tuner) (2022.12.7)\n",
      "Requirement already satisfied: urllib3<1.27,>=1.21.1 in c:\\users\\zaan\\anaconda3\\lib\\site-packages (from requests->keras-tuner) (1.26.14)\n",
      "Installing collected packages: kt-legacy, keras-tuner\n",
      "Successfully installed keras-tuner-1.3.5 kt-legacy-1.0.5\n"
     ]
    }
   ],
   "source": [
    "!pip install keras-tuner\n"
   ]
  },
  {
   "cell_type": "code",
   "execution_count": null,
   "id": "5f1b2850",
   "metadata": {},
   "outputs": [
    {
     "name": "stdout",
     "output_type": "stream",
     "text": [
      "Training and evaluating fold 1/5\n",
      "\n",
      "Search: Running Trial #1\n",
      "\n",
      "Value             |Best Value So Far |Hyperparameter\n",
      "128               |128               |conv1_units\n",
      "256               |256               |dense_units\n",
      "2                 |2                 |tuner/epochs\n",
      "0                 |0                 |tuner/initial_epoch\n",
      "2                 |2                 |tuner/bracket\n",
      "0                 |0                 |tuner/round\n",
      "\n",
      "Epoch 1/2\n"
     ]
    }
   ],
   "source": [
    "# Define the model building function for Keras Tuner\n",
    "def build_model(hp):\n",
    "    model = keras.Sequential([\n",
    "        layers.experimental.preprocessing.Rescaling(1.0 / 255),\n",
    "        layers.Conv2D(\n",
    "            hp.Int(\"conv1_units\", min_value=32, max_value=256, step=32),\n",
    "            kernel_size=(3, 3),\n",
    "            activation=\"relu\",\n",
    "            input_shape=(image_size, image_size, channels),\n",
    "        ),\n",
    "        layers.MaxPooling2D(pool_size=(2, 2)),\n",
    "        # Add more convolutional and pooling layers as desired\n",
    "        layers.Flatten(),\n",
    "        layers.Dense(\n",
    "            hp.Int(\"dense_units\", min_value=64, max_value=256, step=64),\n",
    "            activation=\"relu\",\n",
    "        ),\n",
    "        layers.Dense(num_classes, activation=\"softmax\"),\n",
    "    ])\n",
    "    model.compile(\n",
    "        optimizer=\"adam\",\n",
    "        loss=\"sparse_categorical_crossentropy\",\n",
    "        metrics=[\"accuracy\"],\n",
    "    )\n",
    "    return model\n",
    "\n",
    "fold_histories = []\n",
    "fold_accuracies = []\n",
    "fold_losses = []\n",
    "\n",
    "for fold in range(num_folds):\n",
    "    print(f\"Training and evaluating fold {fold+1}/{num_folds}\")\n",
    "    \n",
    "    # Split the dataset into training and validation sets for this fold\n",
    "    validation_size = len(df) // num_folds\n",
    "    val_ds = df.take(validation_size).skip(fold * validation_size)\n",
    "    train_ds = df.skip(validation_size).take((num_folds - 1) * validation_size)\n",
    "    \n",
    "    # Preprocess and augment the training data\n",
    "    data_augmentation = keras.Sequential([\n",
    "        layers.experimental.preprocessing.RandomFlip(\"horizontal_and_vertical\"),\n",
    "        layers.experimental.preprocessing.RandomRotation(0.2),\n",
    "    ])\n",
    "    train_ds = train_ds.map(lambda x, y: (data_augmentation(x, training=True), y))\n",
    "    \n",
    "    # Create the model instance for this fold using Keras Tuner\n",
    "    tuner = Hyperband(\n",
    "        build_model,\n",
    "        objective=\"val_accuracy\",\n",
    "        max_epochs=epochs,\n",
    "        directory=\"keras_tuner\",\n",
    "        project_name=\"tomato_classification\",\n",
    "    )\n",
    "    tuner.search(train_ds, validation_data=val_ds, epochs=epochs)\n",
    "    \n",
    "    # Retrieve the best model from the search\n",
    "    best_model = tuner.get_best_models(num_models=1)[0]\n",
    "    \n",
    "    # Train the best model on the full training set for this fold\n",
    "    best_model.fit(train_ds, epochs=epochs, verbose=1)"
   ]
  },
  {
   "cell_type": "code",
   "execution_count": null,
   "id": "7a53d492",
   "metadata": {},
   "outputs": [],
   "source": []
  },
  {
   "cell_type": "code",
   "execution_count": null,
   "id": "7f091a7f",
   "metadata": {},
   "outputs": [],
   "source": [
    " # Evaluate the model on the validation set\n",
    "    _, accuracy = model.evaluate(val_ds)\n",
    "    fold_histories.append(history)\n",
    "    fold_accuracies.append(accuracy)\n",
    "    fold_losses.append(history.history[\"val_loss\"][-1])"
   ]
  },
  {
   "cell_type": "code",
   "execution_count": null,
   "id": "a26df3eb",
   "metadata": {},
   "outputs": [],
   "source": [
    "# Calculate and print the average accuracy and loss across folds\n",
    "average_accuracy = np.mean(fold_accuracies)\n",
    "average_loss = np.mean(fold_losses)\n",
    "print(f\"\\nAverage Accuracy: {average_accuracy}\")\n",
    "print(f\"Average Loss: {average_loss}\")"
   ]
  },
  {
   "cell_type": "code",
   "execution_count": null,
   "id": "0a77f0d0",
   "metadata": {},
   "outputs": [],
   "source": [
    "# Plot the training and validation accuracy and loss curves for each fold\n",
    "plt.figure(figsize=(12, 6))\n",
    "for i, history in enumerate(fold_histories):\n",
    "    plt.subplot(1, 2, 1)\n",
    "    plt.plot(range(epochs), history.history[\"accuracy\"], label=f\"Fold {i+1}\")\n",
    "    plt.title(\"Training Accuracy\")\n",
    "    plt.xlabel(\"Epochs\")\n",
    "    plt.ylabel(\"Accuracy\")\n",
    "    \n",
    "    plt.subplot(1, 2, 2)\n",
    "    plt.plot(range(epochs), history.history[\"val_accuracy\"], label=f\"Fold {i+1}\")\n",
    "    plt.title(\"Validation Accuracy\")\n",
    "    plt.xlabel(\"Epochs\")\n",
    "    plt.ylabel(\"Accuracy\")\n",
    "    \n",
    "plt.tight_layout()\n",
    "plt.legend()\n",
    "plt.show()"
   ]
  },
  {
   "cell_type": "code",
   "execution_count": null,
   "id": "3f85a5fb",
   "metadata": {},
   "outputs": [],
   "source": []
  }
 ],
 "metadata": {
  "kernelspec": {
   "display_name": "Python 3 (ipykernel)",
   "language": "python",
   "name": "python3"
  },
  "language_info": {
   "codemirror_mode": {
    "name": "ipython",
    "version": 3
   },
   "file_extension": ".py",
   "mimetype": "text/x-python",
   "name": "python",
   "nbconvert_exporter": "python",
   "pygments_lexer": "ipython3",
   "version": "3.10.9"
  }
 },
 "nbformat": 4,
 "nbformat_minor": 5
}
