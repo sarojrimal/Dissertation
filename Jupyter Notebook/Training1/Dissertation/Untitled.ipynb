{
 "cells": [
  {
   "cell_type": "code",
   "execution_count": null,
   "id": "30905b08",
   "metadata": {},
   "outputs": [],
   "source": [
    "import tensorflow as tf\n",
    "from tensorflow.keras import models, layers\n",
    "import matplotlib.pyplot as plt\n"
   ]
  },
  {
   "cell_type": "code",
   "execution_count": null,
   "id": "79aebb69",
   "metadata": {},
   "outputs": [],
   "source": [
    "pip install tensorflow"
   ]
  },
  {
   "cell_type": "code",
   "execution_count": null,
   "id": "49191a47",
   "metadata": {},
   "outputs": [],
   "source": [
    "conda create -n tensorflow_cpu pip python=3.7\n"
   ]
  },
  {
   "cell_type": "code",
   "execution_count": null,
   "id": "567e6478",
   "metadata": {},
   "outputs": [],
   "source": [
    "pip install --ignore-installed --upgrade tensorflow==1.14\n"
   ]
  },
  {
   "cell_type": "code",
   "execution_count": null,
   "id": "0c14b835",
   "metadata": {},
   "outputs": [],
   "source": []
  }
 ],
 "metadata": {
  "kernelspec": {
   "display_name": "Python 3 (ipykernel)",
   "language": "python",
   "name": "python3"
  },
  "language_info": {
   "codemirror_mode": {
    "name": "ipython",
    "version": 3
   },
   "file_extension": ".py",
   "mimetype": "text/x-python",
   "name": "python",
   "nbconvert_exporter": "python",
   "pygments_lexer": "ipython3",
   "version": "3.9.13"
  }
 },
 "nbformat": 4,
 "nbformat_minor": 5
}
